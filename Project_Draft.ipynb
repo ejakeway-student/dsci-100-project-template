{
 "cells": [
  {
   "cell_type": "code",
   "execution_count": 1,
   "id": "4a3a8ffd-bad8-4187-940b-a1098722772d",
   "metadata": {},
   "outputs": [],
   "source": [
    "### Beginning by loading libraries and project data"
   ]
  },
  {
   "cell_type": "code",
   "execution_count": 2,
   "id": "50f3489a-6b82-4118-bc42-2ef33e69651a",
   "metadata": {},
   "outputs": [
    {
     "name": "stderr",
     "output_type": "stream",
     "text": [
      "── \u001b[1mAttaching core tidyverse packages\u001b[22m ──────────────────────── tidyverse 2.0.0 ──\n",
      "\u001b[32m✔\u001b[39m \u001b[34mdplyr    \u001b[39m 1.1.4     \u001b[32m✔\u001b[39m \u001b[34mreadr    \u001b[39m 2.1.5\n",
      "\u001b[32m✔\u001b[39m \u001b[34mforcats  \u001b[39m 1.0.0     \u001b[32m✔\u001b[39m \u001b[34mstringr  \u001b[39m 1.5.1\n",
      "\u001b[32m✔\u001b[39m \u001b[34mggplot2  \u001b[39m 3.5.1     \u001b[32m✔\u001b[39m \u001b[34mtibble   \u001b[39m 3.2.1\n",
      "\u001b[32m✔\u001b[39m \u001b[34mlubridate\u001b[39m 1.9.3     \u001b[32m✔\u001b[39m \u001b[34mtidyr    \u001b[39m 1.3.1\n",
      "\u001b[32m✔\u001b[39m \u001b[34mpurrr    \u001b[39m 1.0.2     \n",
      "── \u001b[1mConflicts\u001b[22m ────────────────────────────────────────── tidyverse_conflicts() ──\n",
      "\u001b[31m✖\u001b[39m \u001b[34mdplyr\u001b[39m::\u001b[32mfilter()\u001b[39m masks \u001b[34mstats\u001b[39m::filter()\n",
      "\u001b[31m✖\u001b[39m \u001b[34mdplyr\u001b[39m::\u001b[32mlag()\u001b[39m    masks \u001b[34mstats\u001b[39m::lag()\n",
      "\u001b[36mℹ\u001b[39m Use the conflicted package (\u001b[3m\u001b[34m<http://conflicted.r-lib.org/>\u001b[39m\u001b[23m) to force all conflicts to become errors\n"
     ]
    }
   ],
   "source": [
    "library(tidyverse)\n",
    "library(repr)\n",
    "options(repr.matrix.max.rows = 6)\n"
   ]
  },
  {
   "cell_type": "markdown",
   "id": "59044427-75d0-4098-98c1-0e44abd20ac1",
   "metadata": {},
   "source": [
    "<mark> Will need to find a way to load in the data that does not require the use of additional files"
   ]
  },
  {
   "cell_type": "markdown",
   "id": "f1d0c9c2-098e-4915-9050-ed349d76ba7a",
   "metadata": {},
   "source": [
    "### Start of Coherent Project Planning"
   ]
  },
  {
   "cell_type": "markdown",
   "id": "835d44f4-5cb5-4f45-957e-fc53fa29c01c",
   "metadata": {},
   "source": [
    "#### Question to Explore: During the day, at what time do players who start playing tend to play for long periods of time at?"
   ]
  },
  {
   "cell_type": "markdown",
   "id": "e8fdaf18-f9da-4e8e-af63-10f600825faf",
   "metadata": {},
   "source": [
    "To answer this question, I will need to explore the start times of players, and the duration of play of the players. It may also be interesting to explore at what time the most players end their play sessions at in order to help with demand forecasting. \n",
    "\n",
    "For these reasons, I will only need to load in one of the datasets that is available to me. I will then need to select the start_time and end_time columns. I will need to transform this into tidy data, and mutate it to create a new column that has the duration of times played. Let's begin with these steps."
   ]
  },
  {
   "cell_type": "code",
   "execution_count": 20,
   "id": "a02a11d6-e40a-4a4b-9227-de27457b681f",
   "metadata": {},
   "outputs": [
    {
     "name": "stderr",
     "output_type": "stream",
     "text": [
      "\u001b[1mRows: \u001b[22m\u001b[34m1535\u001b[39m \u001b[1mColumns: \u001b[22m\u001b[34m5\u001b[39m\n",
      "\u001b[36m──\u001b[39m \u001b[1mColumn specification\u001b[22m \u001b[36m────────────────────────────────────────────────────────\u001b[39m\n",
      "\u001b[1mDelimiter:\u001b[22m \",\"\n",
      "\u001b[31mchr\u001b[39m (3): hashedEmail, start_time, end_time\n",
      "\u001b[32mdbl\u001b[39m (2): original_start_time, original_end_time\n",
      "\n",
      "\u001b[36mℹ\u001b[39m Use `spec()` to retrieve the full column specification for this data.\n",
      "\u001b[36mℹ\u001b[39m Specify the column types or set `show_col_types = FALSE` to quiet this message.\n"
     ]
    },
    {
     "data": {
      "text/html": [
       "<table class=\"dataframe\">\n",
       "<caption>A tibble: 1535 × 4</caption>\n",
       "<thead>\n",
       "\t<tr><th scope=col>start_time</th><th scope=col>end_time</th><th scope=col>original_start_time</th><th scope=col>original_end_time</th></tr>\n",
       "\t<tr><th scope=col>&lt;chr&gt;</th><th scope=col>&lt;chr&gt;</th><th scope=col>&lt;dbl&gt;</th><th scope=col>&lt;dbl&gt;</th></tr>\n",
       "</thead>\n",
       "<tbody>\n",
       "\t<tr><td>30/06/2024 18:12</td><td>30/06/2024 18:24</td><td>1.71977e+12</td><td>1.71977e+12</td></tr>\n",
       "\t<tr><td>17/06/2024 23:33</td><td>17/06/2024 23:46</td><td>1.71867e+12</td><td>1.71867e+12</td></tr>\n",
       "\t<tr><td>25/07/2024 17:34</td><td>25/07/2024 17:57</td><td>1.72193e+12</td><td>1.72193e+12</td></tr>\n",
       "\t<tr><td>⋮</td><td>⋮</td><td>⋮</td><td>⋮</td></tr>\n",
       "\t<tr><td>28/07/2024 15:36</td><td>28/07/2024 15:57</td><td>1.72218e+12</td><td>1.72218e+12</td></tr>\n",
       "\t<tr><td>25/07/2024 06:15</td><td>25/07/2024 06:22</td><td>1.72189e+12</td><td>1.72189e+12</td></tr>\n",
       "\t<tr><td>20/05/2024 02:26</td><td>20/05/2024 02:45</td><td>1.71617e+12</td><td>1.71617e+12</td></tr>\n",
       "</tbody>\n",
       "</table>\n"
      ],
      "text/latex": [
       "A tibble: 1535 × 4\n",
       "\\begin{tabular}{llll}\n",
       " start\\_time & end\\_time & original\\_start\\_time & original\\_end\\_time\\\\\n",
       " <chr> & <chr> & <dbl> & <dbl>\\\\\n",
       "\\hline\n",
       "\t 30/06/2024 18:12 & 30/06/2024 18:24 & 1.71977e+12 & 1.71977e+12\\\\\n",
       "\t 17/06/2024 23:33 & 17/06/2024 23:46 & 1.71867e+12 & 1.71867e+12\\\\\n",
       "\t 25/07/2024 17:34 & 25/07/2024 17:57 & 1.72193e+12 & 1.72193e+12\\\\\n",
       "\t ⋮ & ⋮ & ⋮ & ⋮\\\\\n",
       "\t 28/07/2024 15:36 & 28/07/2024 15:57 & 1.72218e+12 & 1.72218e+12\\\\\n",
       "\t 25/07/2024 06:15 & 25/07/2024 06:22 & 1.72189e+12 & 1.72189e+12\\\\\n",
       "\t 20/05/2024 02:26 & 20/05/2024 02:45 & 1.71617e+12 & 1.71617e+12\\\\\n",
       "\\end{tabular}\n"
      ],
      "text/markdown": [
       "\n",
       "A tibble: 1535 × 4\n",
       "\n",
       "| start_time &lt;chr&gt; | end_time &lt;chr&gt; | original_start_time &lt;dbl&gt; | original_end_time &lt;dbl&gt; |\n",
       "|---|---|---|---|\n",
       "| 30/06/2024 18:12 | 30/06/2024 18:24 | 1.71977e+12 | 1.71977e+12 |\n",
       "| 17/06/2024 23:33 | 17/06/2024 23:46 | 1.71867e+12 | 1.71867e+12 |\n",
       "| 25/07/2024 17:34 | 25/07/2024 17:57 | 1.72193e+12 | 1.72193e+12 |\n",
       "| ⋮ | ⋮ | ⋮ | ⋮ |\n",
       "| 28/07/2024 15:36 | 28/07/2024 15:57 | 1.72218e+12 | 1.72218e+12 |\n",
       "| 25/07/2024 06:15 | 25/07/2024 06:22 | 1.72189e+12 | 1.72189e+12 |\n",
       "| 20/05/2024 02:26 | 20/05/2024 02:45 | 1.71617e+12 | 1.71617e+12 |\n",
       "\n"
      ],
      "text/plain": [
       "     start_time       end_time         original_start_time original_end_time\n",
       "1    30/06/2024 18:12 30/06/2024 18:24 1.71977e+12         1.71977e+12      \n",
       "2    17/06/2024 23:33 17/06/2024 23:46 1.71867e+12         1.71867e+12      \n",
       "3    25/07/2024 17:34 25/07/2024 17:57 1.72193e+12         1.72193e+12      \n",
       "⋮    ⋮                ⋮                ⋮                   ⋮                \n",
       "1533 28/07/2024 15:36 28/07/2024 15:57 1.72218e+12         1.72218e+12      \n",
       "1534 25/07/2024 06:15 25/07/2024 06:22 1.72189e+12         1.72189e+12      \n",
       "1535 20/05/2024 02:26 20/05/2024 02:45 1.71617e+12         1.71617e+12      "
      ]
     },
     "metadata": {},
     "output_type": "display_data"
    }
   ],
   "source": [
    "sessions_data <- read_csv(\"sessions.csv\") |> select(-hashedEmail)\n",
    "sessions_data"
   ]
  },
  {
   "cell_type": "code",
   "execution_count": 21,
   "id": "4c018281-58c2-48e2-9205-b9ff6dc9ec22",
   "metadata": {},
   "outputs": [
    {
     "data": {
      "text/html": [
       "<table class=\"dataframe\">\n",
       "<caption>A tibble: 1535 × 10</caption>\n",
       "<thead>\n",
       "\t<tr><th scope=col>day_start</th><th scope=col>month_start</th><th scope=col>year_start</th><th scope=col>hour_start</th><th scope=col>minute_start</th><th scope=col>day_end</th><th scope=col>month_end</th><th scope=col>year_end</th><th scope=col>hour_end</th><th scope=col>minute_end</th></tr>\n",
       "\t<tr><th scope=col>&lt;chr&gt;</th><th scope=col>&lt;chr&gt;</th><th scope=col>&lt;chr&gt;</th><th scope=col>&lt;chr&gt;</th><th scope=col>&lt;chr&gt;</th><th scope=col>&lt;chr&gt;</th><th scope=col>&lt;chr&gt;</th><th scope=col>&lt;chr&gt;</th><th scope=col>&lt;chr&gt;</th><th scope=col>&lt;chr&gt;</th></tr>\n",
       "</thead>\n",
       "<tbody>\n",
       "\t<tr><td>30</td><td>06</td><td>2024</td><td>18</td><td>12</td><td>30</td><td>06</td><td>2024</td><td>18</td><td>24</td></tr>\n",
       "\t<tr><td>17</td><td>06</td><td>2024</td><td>23</td><td>33</td><td>17</td><td>06</td><td>2024</td><td>23</td><td>46</td></tr>\n",
       "\t<tr><td>25</td><td>07</td><td>2024</td><td>17</td><td>34</td><td>25</td><td>07</td><td>2024</td><td>17</td><td>57</td></tr>\n",
       "\t<tr><td>⋮</td><td>⋮</td><td>⋮</td><td>⋮</td><td>⋮</td><td>⋮</td><td>⋮</td><td>⋮</td><td>⋮</td><td>⋮</td></tr>\n",
       "\t<tr><td>28</td><td>07</td><td>2024</td><td>15</td><td>36</td><td>28</td><td>07</td><td>2024</td><td>15</td><td>57</td></tr>\n",
       "\t<tr><td>25</td><td>07</td><td>2024</td><td>06</td><td>15</td><td>25</td><td>07</td><td>2024</td><td>06</td><td>22</td></tr>\n",
       "\t<tr><td>20</td><td>05</td><td>2024</td><td>02</td><td>26</td><td>20</td><td>05</td><td>2024</td><td>02</td><td>45</td></tr>\n",
       "</tbody>\n",
       "</table>\n"
      ],
      "text/latex": [
       "A tibble: 1535 × 10\n",
       "\\begin{tabular}{llllllllll}\n",
       " day\\_start & month\\_start & year\\_start & hour\\_start & minute\\_start & day\\_end & month\\_end & year\\_end & hour\\_end & minute\\_end\\\\\n",
       " <chr> & <chr> & <chr> & <chr> & <chr> & <chr> & <chr> & <chr> & <chr> & <chr>\\\\\n",
       "\\hline\n",
       "\t 30 & 06 & 2024 & 18 & 12 & 30 & 06 & 2024 & 18 & 24\\\\\n",
       "\t 17 & 06 & 2024 & 23 & 33 & 17 & 06 & 2024 & 23 & 46\\\\\n",
       "\t 25 & 07 & 2024 & 17 & 34 & 25 & 07 & 2024 & 17 & 57\\\\\n",
       "\t ⋮ & ⋮ & ⋮ & ⋮ & ⋮ & ⋮ & ⋮ & ⋮ & ⋮ & ⋮\\\\\n",
       "\t 28 & 07 & 2024 & 15 & 36 & 28 & 07 & 2024 & 15 & 57\\\\\n",
       "\t 25 & 07 & 2024 & 06 & 15 & 25 & 07 & 2024 & 06 & 22\\\\\n",
       "\t 20 & 05 & 2024 & 02 & 26 & 20 & 05 & 2024 & 02 & 45\\\\\n",
       "\\end{tabular}\n"
      ],
      "text/markdown": [
       "\n",
       "A tibble: 1535 × 10\n",
       "\n",
       "| day_start &lt;chr&gt; | month_start &lt;chr&gt; | year_start &lt;chr&gt; | hour_start &lt;chr&gt; | minute_start &lt;chr&gt; | day_end &lt;chr&gt; | month_end &lt;chr&gt; | year_end &lt;chr&gt; | hour_end &lt;chr&gt; | minute_end &lt;chr&gt; |\n",
       "|---|---|---|---|---|---|---|---|---|---|\n",
       "| 30 | 06 | 2024 | 18 | 12 | 30 | 06 | 2024 | 18 | 24 |\n",
       "| 17 | 06 | 2024 | 23 | 33 | 17 | 06 | 2024 | 23 | 46 |\n",
       "| 25 | 07 | 2024 | 17 | 34 | 25 | 07 | 2024 | 17 | 57 |\n",
       "| ⋮ | ⋮ | ⋮ | ⋮ | ⋮ | ⋮ | ⋮ | ⋮ | ⋮ | ⋮ |\n",
       "| 28 | 07 | 2024 | 15 | 36 | 28 | 07 | 2024 | 15 | 57 |\n",
       "| 25 | 07 | 2024 | 06 | 15 | 25 | 07 | 2024 | 06 | 22 |\n",
       "| 20 | 05 | 2024 | 02 | 26 | 20 | 05 | 2024 | 02 | 45 |\n",
       "\n"
      ],
      "text/plain": [
       "     day_start month_start year_start hour_start minute_start day_end month_end\n",
       "1    30        06          2024       18         12           30      06       \n",
       "2    17        06          2024       23         33           17      06       \n",
       "3    25        07          2024       17         34           25      07       \n",
       "⋮    ⋮         ⋮           ⋮          ⋮          ⋮            ⋮       ⋮        \n",
       "1533 28        07          2024       15         36           28      07       \n",
       "1534 25        07          2024       06         15           25      07       \n",
       "1535 20        05          2024       02         26           20      05       \n",
       "     year_end hour_end minute_end\n",
       "1    2024     18       24        \n",
       "2    2024     23       46        \n",
       "3    2024     17       57        \n",
       "⋮    ⋮        ⋮        ⋮         \n",
       "1533 2024     15       57        \n",
       "1534 2024     06       22        \n",
       "1535 2024     02       45        "
      ]
     },
     "metadata": {},
     "output_type": "display_data"
    }
   ],
   "source": [
    "### Tidying the data\n",
    "\n",
    "\n",
    "sessions_tidy <- sessions_data |>\n",
    "                    select(start_time, end_time) |>\n",
    "                    separate(col = start_time, into = c(\"date_start\", \"time_start\"), sep = \" \") |>\n",
    "                    separate(col = end_time, into = c(\"date_end\", \"time_end\"), sep = \" \") |>\n",
    "                    separate(col = date_start, into = c(\"day_start\", \"month_start\", \"year_start\"), sep = \"/\") |>\n",
    "                    separate(col = date_end, into = c(\"day_end\", \"month_end\", \"year_end\"), sep = \"/\") |>\n",
    "                    separate(col = time_start, into = c(\"hour_start\", \"minute_start\"), sep = \":\") |>\n",
    "                    separate(col = time_end, into = c(\"hour_end\", \"minute_end\"), sep = \":\") \n",
    "\n",
    "\n",
    "\n",
    "\n",
    "sessions_tidy"
   ]
  },
  {
   "cell_type": "markdown",
   "id": "6288128a-9bab-4a4e-af23-20a488c8c330",
   "metadata": {},
   "source": [
    "I now need to make a column for the duration of the time that is played. I am more concerned with the **time** of day that players are playing at, rather than the month and year of their game play. Thus, I will remove the columns pertaining to month and year. I should be carful about the day columns though, because someone may have played through midnight."
   ]
  },
  {
   "cell_type": "code",
   "execution_count": 22,
   "id": "bc564479-64bf-46e7-834e-a34accc01bee",
   "metadata": {},
   "outputs": [
    {
     "data": {
      "text/html": [
       "<table class=\"dataframe\">\n",
       "<caption>A tibble: 1535 × 6</caption>\n",
       "<thead>\n",
       "\t<tr><th scope=col>day_start</th><th scope=col>hour_start</th><th scope=col>minute_start</th><th scope=col>day_end</th><th scope=col>hour_end</th><th scope=col>minute_end</th></tr>\n",
       "\t<tr><th scope=col>&lt;chr&gt;</th><th scope=col>&lt;chr&gt;</th><th scope=col>&lt;chr&gt;</th><th scope=col>&lt;chr&gt;</th><th scope=col>&lt;chr&gt;</th><th scope=col>&lt;chr&gt;</th></tr>\n",
       "</thead>\n",
       "<tbody>\n",
       "\t<tr><td>30</td><td>18</td><td>12</td><td>30</td><td>18</td><td>24</td></tr>\n",
       "\t<tr><td>17</td><td>23</td><td>33</td><td>17</td><td>23</td><td>46</td></tr>\n",
       "\t<tr><td>25</td><td>17</td><td>34</td><td>25</td><td>17</td><td>57</td></tr>\n",
       "\t<tr><td>⋮</td><td>⋮</td><td>⋮</td><td>⋮</td><td>⋮</td><td>⋮</td></tr>\n",
       "\t<tr><td>28</td><td>15</td><td>36</td><td>28</td><td>15</td><td>57</td></tr>\n",
       "\t<tr><td>25</td><td>06</td><td>15</td><td>25</td><td>06</td><td>22</td></tr>\n",
       "\t<tr><td>20</td><td>02</td><td>26</td><td>20</td><td>02</td><td>45</td></tr>\n",
       "</tbody>\n",
       "</table>\n"
      ],
      "text/latex": [
       "A tibble: 1535 × 6\n",
       "\\begin{tabular}{llllll}\n",
       " day\\_start & hour\\_start & minute\\_start & day\\_end & hour\\_end & minute\\_end\\\\\n",
       " <chr> & <chr> & <chr> & <chr> & <chr> & <chr>\\\\\n",
       "\\hline\n",
       "\t 30 & 18 & 12 & 30 & 18 & 24\\\\\n",
       "\t 17 & 23 & 33 & 17 & 23 & 46\\\\\n",
       "\t 25 & 17 & 34 & 25 & 17 & 57\\\\\n",
       "\t ⋮ & ⋮ & ⋮ & ⋮ & ⋮ & ⋮\\\\\n",
       "\t 28 & 15 & 36 & 28 & 15 & 57\\\\\n",
       "\t 25 & 06 & 15 & 25 & 06 & 22\\\\\n",
       "\t 20 & 02 & 26 & 20 & 02 & 45\\\\\n",
       "\\end{tabular}\n"
      ],
      "text/markdown": [
       "\n",
       "A tibble: 1535 × 6\n",
       "\n",
       "| day_start &lt;chr&gt; | hour_start &lt;chr&gt; | minute_start &lt;chr&gt; | day_end &lt;chr&gt; | hour_end &lt;chr&gt; | minute_end &lt;chr&gt; |\n",
       "|---|---|---|---|---|---|\n",
       "| 30 | 18 | 12 | 30 | 18 | 24 |\n",
       "| 17 | 23 | 33 | 17 | 23 | 46 |\n",
       "| 25 | 17 | 34 | 25 | 17 | 57 |\n",
       "| ⋮ | ⋮ | ⋮ | ⋮ | ⋮ | ⋮ |\n",
       "| 28 | 15 | 36 | 28 | 15 | 57 |\n",
       "| 25 | 06 | 15 | 25 | 06 | 22 |\n",
       "| 20 | 02 | 26 | 20 | 02 | 45 |\n",
       "\n"
      ],
      "text/plain": [
       "     day_start hour_start minute_start day_end hour_end minute_end\n",
       "1    30        18         12           30      18       24        \n",
       "2    17        23         33           17      23       46        \n",
       "3    25        17         34           25      17       57        \n",
       "⋮    ⋮         ⋮          ⋮            ⋮       ⋮        ⋮         \n",
       "1533 28        15         36           28      15       57        \n",
       "1534 25        06         15           25      06       22        \n",
       "1535 20        02         26           20      02       45        "
      ]
     },
     "metadata": {},
     "output_type": "display_data"
    },
    {
     "data": {
      "text/html": [
       "<style>\n",
       ".list-inline {list-style: none; margin:0; padding: 0}\n",
       ".list-inline>li {display: inline-block}\n",
       ".list-inline>li:not(:last-child)::after {content: \"\\00b7\"; padding: 0 .5ex}\n",
       "</style>\n",
       "<ol class=list-inline><li>'day_start'</li><li>'hour_start'</li><li>'minute_start'</li><li>'day_end'</li><li>'hour_end'</li><li>'minute_end'</li></ol>\n"
      ],
      "text/latex": [
       "\\begin{enumerate*}\n",
       "\\item 'day\\_start'\n",
       "\\item 'hour\\_start'\n",
       "\\item 'minute\\_start'\n",
       "\\item 'day\\_end'\n",
       "\\item 'hour\\_end'\n",
       "\\item 'minute\\_end'\n",
       "\\end{enumerate*}\n"
      ],
      "text/markdown": [
       "1. 'day_start'\n",
       "2. 'hour_start'\n",
       "3. 'minute_start'\n",
       "4. 'day_end'\n",
       "5. 'hour_end'\n",
       "6. 'minute_end'\n",
       "\n",
       "\n"
      ],
      "text/plain": [
       "[1] \"day_start\"    \"hour_start\"   \"minute_start\" \"day_end\"      \"hour_end\"    \n",
       "[6] \"minute_end\"  "
      ]
     },
     "metadata": {},
     "output_type": "display_data"
    }
   ],
   "source": [
    "sessions_days <- sessions_tidy |>\n",
    "        select(-month_start, -year_start, -month_end, -year_end)\n",
    "\n",
    "sessions_days\n",
    "names(sessions_days)"
   ]
  },
  {
   "cell_type": "markdown",
   "id": "bb90a9b9-72b3-4929-ad3d-0c66515e788d",
   "metadata": {},
   "source": [
    "I need to convert the characters to numbers so that I can manipulate the data"
   ]
  },
  {
   "cell_type": "code",
   "execution_count": 36,
   "id": "8992319f-0f2c-450d-9a54-a5092926cc78",
   "metadata": {},
   "outputs": [
    {
     "data": {
      "text/html": [
       "<table class=\"dataframe\">\n",
       "<caption>A tibble: 1535 × 6</caption>\n",
       "<thead>\n",
       "\t<tr><th scope=col>day_start</th><th scope=col>hour_start</th><th scope=col>minute_start</th><th scope=col>day_end</th><th scope=col>hour_end</th><th scope=col>minute_end</th></tr>\n",
       "\t<tr><th scope=col>&lt;dbl&gt;</th><th scope=col>&lt;dbl&gt;</th><th scope=col>&lt;dbl&gt;</th><th scope=col>&lt;dbl&gt;</th><th scope=col>&lt;dbl&gt;</th><th scope=col>&lt;dbl&gt;</th></tr>\n",
       "</thead>\n",
       "<tbody>\n",
       "\t<tr><td>30</td><td>18</td><td>12</td><td>30</td><td>18</td><td>24</td></tr>\n",
       "\t<tr><td>17</td><td>23</td><td>33</td><td>17</td><td>23</td><td>46</td></tr>\n",
       "\t<tr><td>25</td><td>17</td><td>34</td><td>25</td><td>17</td><td>57</td></tr>\n",
       "\t<tr><td>⋮</td><td>⋮</td><td>⋮</td><td>⋮</td><td>⋮</td><td>⋮</td></tr>\n",
       "\t<tr><td>28</td><td>15</td><td>36</td><td>28</td><td>15</td><td>57</td></tr>\n",
       "\t<tr><td>25</td><td> 6</td><td>15</td><td>25</td><td> 6</td><td>22</td></tr>\n",
       "\t<tr><td>20</td><td> 2</td><td>26</td><td>20</td><td> 2</td><td>45</td></tr>\n",
       "</tbody>\n",
       "</table>\n"
      ],
      "text/latex": [
       "A tibble: 1535 × 6\n",
       "\\begin{tabular}{llllll}\n",
       " day\\_start & hour\\_start & minute\\_start & day\\_end & hour\\_end & minute\\_end\\\\\n",
       " <dbl> & <dbl> & <dbl> & <dbl> & <dbl> & <dbl>\\\\\n",
       "\\hline\n",
       "\t 30 & 18 & 12 & 30 & 18 & 24\\\\\n",
       "\t 17 & 23 & 33 & 17 & 23 & 46\\\\\n",
       "\t 25 & 17 & 34 & 25 & 17 & 57\\\\\n",
       "\t ⋮ & ⋮ & ⋮ & ⋮ & ⋮ & ⋮\\\\\n",
       "\t 28 & 15 & 36 & 28 & 15 & 57\\\\\n",
       "\t 25 &  6 & 15 & 25 &  6 & 22\\\\\n",
       "\t 20 &  2 & 26 & 20 &  2 & 45\\\\\n",
       "\\end{tabular}\n"
      ],
      "text/markdown": [
       "\n",
       "A tibble: 1535 × 6\n",
       "\n",
       "| day_start &lt;dbl&gt; | hour_start &lt;dbl&gt; | minute_start &lt;dbl&gt; | day_end &lt;dbl&gt; | hour_end &lt;dbl&gt; | minute_end &lt;dbl&gt; |\n",
       "|---|---|---|---|---|---|\n",
       "| 30 | 18 | 12 | 30 | 18 | 24 |\n",
       "| 17 | 23 | 33 | 17 | 23 | 46 |\n",
       "| 25 | 17 | 34 | 25 | 17 | 57 |\n",
       "| ⋮ | ⋮ | ⋮ | ⋮ | ⋮ | ⋮ |\n",
       "| 28 | 15 | 36 | 28 | 15 | 57 |\n",
       "| 25 |  6 | 15 | 25 |  6 | 22 |\n",
       "| 20 |  2 | 26 | 20 |  2 | 45 |\n",
       "\n"
      ],
      "text/plain": [
       "     day_start hour_start minute_start day_end hour_end minute_end\n",
       "1    30        18         12           30      18       24        \n",
       "2    17        23         33           17      23       46        \n",
       "3    25        17         34           25      17       57        \n",
       "⋮    ⋮         ⋮          ⋮            ⋮       ⋮        ⋮         \n",
       "1533 28        15         36           28      15       57        \n",
       "1534 25         6         15           25       6       22        \n",
       "1535 20         2         26           20       2       45        "
      ]
     },
     "metadata": {},
     "output_type": "display_data"
    }
   ],
   "source": [
    "sessions_numeric <- sessions_days |>\n",
    "        mutate(\n",
    "            day_start = as.numeric(day_start), \n",
    "               minute_start = as.numeric(minute_start), \n",
    "               hour_start = as.numeric(hour_start),\n",
    "               day_end = as.numeric(day_end),\n",
    "               hour_end = as.numeric(hour_end),\n",
    "               minute_end = as.numeric(minute_end)\n",
    "              )\n",
    "sessions_numeric"
   ]
  },
  {
   "cell_type": "markdown",
   "id": "36555a62-e1f0-475e-a7e3-4d4da66485d4",
   "metadata": {},
   "source": [
    "I want to see if there are any cases where people played across multiple days, because I will need to handle those cases separately."
   ]
  },
  {
   "cell_type": "code",
   "execution_count": 12,
   "id": "9b495952-805a-4baf-8795-ac22edacf886",
   "metadata": {},
   "outputs": [
    {
     "ename": "ERROR",
     "evalue": "\u001b[1m\u001b[33mError\u001b[39m in `mutate()`:\u001b[22m\n\u001b[1m\u001b[22m\u001b[36mℹ\u001b[39m In argument: `day_duration = (day_end - day_start)`.\n\u001b[1mCaused by error in `day_end - day_start`:\u001b[22m\n\u001b[33m!\u001b[39m non-numeric argument to binary operator\n",
     "output_type": "error",
     "traceback": [
      "\u001b[1m\u001b[33mError\u001b[39m in `mutate()`:\u001b[22m\n\u001b[1m\u001b[22m\u001b[36mℹ\u001b[39m In argument: `day_duration = (day_end - day_start)`.\n\u001b[1mCaused by error in `day_end - day_start`:\u001b[22m\n\u001b[33m!\u001b[39m non-numeric argument to binary operator\nTraceback:\n",
      "1. mutate(sessions_days, day_duration = (day_end - day_start))",
      "2. mutate.data.frame(sessions_days, day_duration = (day_end - day_start))",
      "3. mutate_cols(.data, dplyr_quosures(...), by)",
      "4. withCallingHandlers(for (i in seq_along(dots)) {\n .     poke_error_context(dots, i, mask = mask)\n .     context_poke(\"column\", old_current_column)\n .     new_columns <- mutate_col(dots[[i]], data, mask, new_columns)\n . }, error = dplyr_error_handler(dots = dots, mask = mask, bullets = mutate_bullets, \n .     error_call = error_call, error_class = \"dplyr:::mutate_error\"), \n .     warning = dplyr_warning_handler(state = warnings_state, mask = mask, \n .         error_call = error_call))",
      "5. mutate_col(dots[[i]], data, mask, new_columns)",
      "6. mask$eval_all_mutate(quo)",
      "7. eval()",
      "8. .handleSimpleError(function (cnd) \n . {\n .     local_error_context(dots, i = frame[[i_sym]], mask = mask)\n .     if (inherits(cnd, \"dplyr:::internal_error\")) {\n .         parent <- error_cnd(message = bullets(cnd))\n .     }\n .     else {\n .         parent <- cnd\n .     }\n .     message <- c(cnd_bullet_header(action), i = if (has_active_group_context(mask)) cnd_bullet_cur_group_label())\n .     abort(message, class = error_class, parent = parent, call = error_call)\n . }, \"non-numeric argument to binary operator\", base::quote(day_end - \n .     day_start))",
      "9. h(simpleError(msg, call))",
      "10. abort(message, class = error_class, parent = parent, call = error_call)",
      "11. signal_abort(cnd, .file)"
     ]
    }
   ],
   "source": [
    "sessions_with_duration <- sessions_numeric |>\n",
    "        mutate(day_duration = (day_end-day_start))"
   ]
  },
  {
   "cell_type": "code",
   "execution_count": null,
   "id": "9af5fe00-e072-4fd7-b5aa-634d5e9721f2",
   "metadata": {},
   "outputs": [],
   "source": []
  }
 ],
 "metadata": {
  "kernelspec": {
   "display_name": "R",
   "language": "R",
   "name": "ir"
  },
  "language_info": {
   "codemirror_mode": "r",
   "file_extension": ".r",
   "mimetype": "text/x-r-source",
   "name": "R",
   "pygments_lexer": "r",
   "version": "4.3.3"
  }
 },
 "nbformat": 4,
 "nbformat_minor": 5
}

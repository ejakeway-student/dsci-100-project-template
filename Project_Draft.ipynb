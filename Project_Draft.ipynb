{
 "cells": [
  {
   "cell_type": "code",
   "execution_count": 1,
   "id": "4a3a8ffd-bad8-4187-940b-a1098722772d",
   "metadata": {},
   "outputs": [],
   "source": [
    "### Beginning by loading libraries and project data"
   ]
  },
  {
   "cell_type": "code",
   "execution_count": 2,
   "id": "50f3489a-6b82-4118-bc42-2ef33e69651a",
   "metadata": {},
   "outputs": [
    {
     "name": "stderr",
     "output_type": "stream",
     "text": [
      "── \u001b[1mAttaching core tidyverse packages\u001b[22m ──────────────────────── tidyverse 2.0.0 ──\n",
      "\u001b[32m✔\u001b[39m \u001b[34mdplyr    \u001b[39m 1.1.4     \u001b[32m✔\u001b[39m \u001b[34mreadr    \u001b[39m 2.1.5\n",
      "\u001b[32m✔\u001b[39m \u001b[34mforcats  \u001b[39m 1.0.0     \u001b[32m✔\u001b[39m \u001b[34mstringr  \u001b[39m 1.5.1\n",
      "\u001b[32m✔\u001b[39m \u001b[34mggplot2  \u001b[39m 3.5.1     \u001b[32m✔\u001b[39m \u001b[34mtibble   \u001b[39m 3.2.1\n",
      "\u001b[32m✔\u001b[39m \u001b[34mlubridate\u001b[39m 1.9.3     \u001b[32m✔\u001b[39m \u001b[34mtidyr    \u001b[39m 1.3.1\n",
      "\u001b[32m✔\u001b[39m \u001b[34mpurrr    \u001b[39m 1.0.2     \n",
      "── \u001b[1mConflicts\u001b[22m ────────────────────────────────────────── tidyverse_conflicts() ──\n",
      "\u001b[31m✖\u001b[39m \u001b[34mdplyr\u001b[39m::\u001b[32mfilter()\u001b[39m masks \u001b[34mstats\u001b[39m::filter()\n",
      "\u001b[31m✖\u001b[39m \u001b[34mdplyr\u001b[39m::\u001b[32mlag()\u001b[39m    masks \u001b[34mstats\u001b[39m::lag()\n",
      "\u001b[36mℹ\u001b[39m Use the conflicted package (\u001b[3m\u001b[34m<http://conflicted.r-lib.org/>\u001b[39m\u001b[23m) to force all conflicts to become errors\n"
     ]
    }
   ],
   "source": [
    "library(tidyverse)\n",
    "library(repr)\n",
    "options(repr.matrix.max.rows = 6)\n"
   ]
  },
  {
   "cell_type": "markdown",
   "id": "59044427-75d0-4098-98c1-0e44abd20ac1",
   "metadata": {},
   "source": [
    "<mark> Will need to find a way to load in the data that does not require the use of additional files"
   ]
  },
  {
   "cell_type": "code",
   "execution_count": 3,
   "id": "9db3bf79-7991-4af7-9407-7a67707f7fd1",
   "metadata": {},
   "outputs": [
    {
     "name": "stderr",
     "output_type": "stream",
     "text": [
      "\u001b[1mRows: \u001b[22m\u001b[34m196\u001b[39m \u001b[1mColumns: \u001b[22m\u001b[34m7\u001b[39m\n",
      "\u001b[36m──\u001b[39m \u001b[1mColumn specification\u001b[22m \u001b[36m────────────────────────────────────────────────────────\u001b[39m\n",
      "\u001b[1mDelimiter:\u001b[22m \",\"\n",
      "\u001b[31mchr\u001b[39m (4): experience, hashedEmail, name, gender\n",
      "\u001b[32mdbl\u001b[39m (2): played_hours, Age\n",
      "\u001b[33mlgl\u001b[39m (1): subscribe\n",
      "\n",
      "\u001b[36mℹ\u001b[39m Use `spec()` to retrieve the full column specification for this data.\n",
      "\u001b[36mℹ\u001b[39m Specify the column types or set `show_col_types = FALSE` to quiet this message.\n"
     ]
    },
    {
     "data": {
      "text/html": [
       "<table class=\"dataframe\">\n",
       "<caption>A tibble: 196 × 6</caption>\n",
       "<thead>\n",
       "\t<tr><th scope=col>experience</th><th scope=col>subscribe</th><th scope=col>played_hours</th><th scope=col>name</th><th scope=col>gender</th><th scope=col>Age</th></tr>\n",
       "\t<tr><th scope=col>&lt;chr&gt;</th><th scope=col>&lt;lgl&gt;</th><th scope=col>&lt;dbl&gt;</th><th scope=col>&lt;chr&gt;</th><th scope=col>&lt;chr&gt;</th><th scope=col>&lt;dbl&gt;</th></tr>\n",
       "</thead>\n",
       "<tbody>\n",
       "\t<tr><td>Pro    </td><td> TRUE</td><td>30.3</td><td>Morgan   </td><td>Male</td><td> 9</td></tr>\n",
       "\t<tr><td>Veteran</td><td> TRUE</td><td> 3.8</td><td>Christian</td><td>Male</td><td>17</td></tr>\n",
       "\t<tr><td>Veteran</td><td>FALSE</td><td> 0.0</td><td>Blake    </td><td>Male</td><td>17</td></tr>\n",
       "\t<tr><td>⋮</td><td>⋮</td><td>⋮</td><td>⋮</td><td>⋮</td><td>⋮</td></tr>\n",
       "\t<tr><td>Amateur</td><td>FALSE</td><td>0.0</td><td>Dylan </td><td>Prefer not to say</td><td>17</td></tr>\n",
       "\t<tr><td>Amateur</td><td>FALSE</td><td>2.3</td><td>Harlow</td><td>Male             </td><td>17</td></tr>\n",
       "\t<tr><td>Pro    </td><td> TRUE</td><td>0.2</td><td>Ahmed </td><td>Other            </td><td>NA</td></tr>\n",
       "</tbody>\n",
       "</table>\n"
      ],
      "text/latex": [
       "A tibble: 196 × 6\n",
       "\\begin{tabular}{llllll}\n",
       " experience & subscribe & played\\_hours & name & gender & Age\\\\\n",
       " <chr> & <lgl> & <dbl> & <chr> & <chr> & <dbl>\\\\\n",
       "\\hline\n",
       "\t Pro     &  TRUE & 30.3 & Morgan    & Male &  9\\\\\n",
       "\t Veteran &  TRUE &  3.8 & Christian & Male & 17\\\\\n",
       "\t Veteran & FALSE &  0.0 & Blake     & Male & 17\\\\\n",
       "\t ⋮ & ⋮ & ⋮ & ⋮ & ⋮ & ⋮\\\\\n",
       "\t Amateur & FALSE & 0.0 & Dylan  & Prefer not to say & 17\\\\\n",
       "\t Amateur & FALSE & 2.3 & Harlow & Male              & 17\\\\\n",
       "\t Pro     &  TRUE & 0.2 & Ahmed  & Other             & NA\\\\\n",
       "\\end{tabular}\n"
      ],
      "text/markdown": [
       "\n",
       "A tibble: 196 × 6\n",
       "\n",
       "| experience &lt;chr&gt; | subscribe &lt;lgl&gt; | played_hours &lt;dbl&gt; | name &lt;chr&gt; | gender &lt;chr&gt; | Age &lt;dbl&gt; |\n",
       "|---|---|---|---|---|---|\n",
       "| Pro     |  TRUE | 30.3 | Morgan    | Male |  9 |\n",
       "| Veteran |  TRUE |  3.8 | Christian | Male | 17 |\n",
       "| Veteran | FALSE |  0.0 | Blake     | Male | 17 |\n",
       "| ⋮ | ⋮ | ⋮ | ⋮ | ⋮ | ⋮ |\n",
       "| Amateur | FALSE | 0.0 | Dylan  | Prefer not to say | 17 |\n",
       "| Amateur | FALSE | 2.3 | Harlow | Male              | 17 |\n",
       "| Pro     |  TRUE | 0.2 | Ahmed  | Other             | NA |\n",
       "\n"
      ],
      "text/plain": [
       "    experience subscribe played_hours name      gender            Age\n",
       "1   Pro         TRUE     30.3         Morgan    Male               9 \n",
       "2   Veteran     TRUE      3.8         Christian Male              17 \n",
       "3   Veteran    FALSE      0.0         Blake     Male              17 \n",
       "⋮   ⋮          ⋮         ⋮            ⋮         ⋮                 ⋮  \n",
       "194 Amateur    FALSE     0.0          Dylan     Prefer not to say 17 \n",
       "195 Amateur    FALSE     2.3          Harlow    Male              17 \n",
       "196 Pro         TRUE     0.2          Ahmed     Other             NA "
      ]
     },
     "metadata": {},
     "output_type": "display_data"
    }
   ],
   "source": [
    "player_data <- read_csv(\"players.csv\") |> select(-hashedEmail)\n",
    "player_data"
   ]
  },
  {
   "cell_type": "code",
   "execution_count": 4,
   "id": "a02a11d6-e40a-4a4b-9227-de27457b681f",
   "metadata": {},
   "outputs": [
    {
     "name": "stderr",
     "output_type": "stream",
     "text": [
      "\u001b[1mRows: \u001b[22m\u001b[34m1535\u001b[39m \u001b[1mColumns: \u001b[22m\u001b[34m5\u001b[39m\n",
      "\u001b[36m──\u001b[39m \u001b[1mColumn specification\u001b[22m \u001b[36m────────────────────────────────────────────────────────\u001b[39m\n",
      "\u001b[1mDelimiter:\u001b[22m \",\"\n",
      "\u001b[31mchr\u001b[39m (3): hashedEmail, start_time, end_time\n",
      "\u001b[32mdbl\u001b[39m (2): original_start_time, original_end_time\n",
      "\n",
      "\u001b[36mℹ\u001b[39m Use `spec()` to retrieve the full column specification for this data.\n",
      "\u001b[36mℹ\u001b[39m Specify the column types or set `show_col_types = FALSE` to quiet this message.\n"
     ]
    },
    {
     "data": {
      "text/html": [
       "<table class=\"dataframe\">\n",
       "<caption>A tibble: 1535 × 4</caption>\n",
       "<thead>\n",
       "\t<tr><th scope=col>start_time</th><th scope=col>end_time</th><th scope=col>original_start_time</th><th scope=col>original_end_time</th></tr>\n",
       "\t<tr><th scope=col>&lt;chr&gt;</th><th scope=col>&lt;chr&gt;</th><th scope=col>&lt;dbl&gt;</th><th scope=col>&lt;dbl&gt;</th></tr>\n",
       "</thead>\n",
       "<tbody>\n",
       "\t<tr><td>30/06/2024 18:12</td><td>30/06/2024 18:24</td><td>1.71977e+12</td><td>1.71977e+12</td></tr>\n",
       "\t<tr><td>17/06/2024 23:33</td><td>17/06/2024 23:46</td><td>1.71867e+12</td><td>1.71867e+12</td></tr>\n",
       "\t<tr><td>25/07/2024 17:34</td><td>25/07/2024 17:57</td><td>1.72193e+12</td><td>1.72193e+12</td></tr>\n",
       "\t<tr><td>⋮</td><td>⋮</td><td>⋮</td><td>⋮</td></tr>\n",
       "\t<tr><td>28/07/2024 15:36</td><td>28/07/2024 15:57</td><td>1.72218e+12</td><td>1.72218e+12</td></tr>\n",
       "\t<tr><td>25/07/2024 06:15</td><td>25/07/2024 06:22</td><td>1.72189e+12</td><td>1.72189e+12</td></tr>\n",
       "\t<tr><td>20/05/2024 02:26</td><td>20/05/2024 02:45</td><td>1.71617e+12</td><td>1.71617e+12</td></tr>\n",
       "</tbody>\n",
       "</table>\n"
      ],
      "text/latex": [
       "A tibble: 1535 × 4\n",
       "\\begin{tabular}{llll}\n",
       " start\\_time & end\\_time & original\\_start\\_time & original\\_end\\_time\\\\\n",
       " <chr> & <chr> & <dbl> & <dbl>\\\\\n",
       "\\hline\n",
       "\t 30/06/2024 18:12 & 30/06/2024 18:24 & 1.71977e+12 & 1.71977e+12\\\\\n",
       "\t 17/06/2024 23:33 & 17/06/2024 23:46 & 1.71867e+12 & 1.71867e+12\\\\\n",
       "\t 25/07/2024 17:34 & 25/07/2024 17:57 & 1.72193e+12 & 1.72193e+12\\\\\n",
       "\t ⋮ & ⋮ & ⋮ & ⋮\\\\\n",
       "\t 28/07/2024 15:36 & 28/07/2024 15:57 & 1.72218e+12 & 1.72218e+12\\\\\n",
       "\t 25/07/2024 06:15 & 25/07/2024 06:22 & 1.72189e+12 & 1.72189e+12\\\\\n",
       "\t 20/05/2024 02:26 & 20/05/2024 02:45 & 1.71617e+12 & 1.71617e+12\\\\\n",
       "\\end{tabular}\n"
      ],
      "text/markdown": [
       "\n",
       "A tibble: 1535 × 4\n",
       "\n",
       "| start_time &lt;chr&gt; | end_time &lt;chr&gt; | original_start_time &lt;dbl&gt; | original_end_time &lt;dbl&gt; |\n",
       "|---|---|---|---|\n",
       "| 30/06/2024 18:12 | 30/06/2024 18:24 | 1.71977e+12 | 1.71977e+12 |\n",
       "| 17/06/2024 23:33 | 17/06/2024 23:46 | 1.71867e+12 | 1.71867e+12 |\n",
       "| 25/07/2024 17:34 | 25/07/2024 17:57 | 1.72193e+12 | 1.72193e+12 |\n",
       "| ⋮ | ⋮ | ⋮ | ⋮ |\n",
       "| 28/07/2024 15:36 | 28/07/2024 15:57 | 1.72218e+12 | 1.72218e+12 |\n",
       "| 25/07/2024 06:15 | 25/07/2024 06:22 | 1.72189e+12 | 1.72189e+12 |\n",
       "| 20/05/2024 02:26 | 20/05/2024 02:45 | 1.71617e+12 | 1.71617e+12 |\n",
       "\n"
      ],
      "text/plain": [
       "     start_time       end_time         original_start_time original_end_time\n",
       "1    30/06/2024 18:12 30/06/2024 18:24 1.71977e+12         1.71977e+12      \n",
       "2    17/06/2024 23:33 17/06/2024 23:46 1.71867e+12         1.71867e+12      \n",
       "3    25/07/2024 17:34 25/07/2024 17:57 1.72193e+12         1.72193e+12      \n",
       "⋮    ⋮                ⋮                ⋮                   ⋮                \n",
       "1533 28/07/2024 15:36 28/07/2024 15:57 1.72218e+12         1.72218e+12      \n",
       "1534 25/07/2024 06:15 25/07/2024 06:22 1.72189e+12         1.72189e+12      \n",
       "1535 20/05/2024 02:26 20/05/2024 02:45 1.71617e+12         1.71617e+12      "
      ]
     },
     "metadata": {},
     "output_type": "display_data"
    }
   ],
   "source": [
    "sessions_data <- read_csv(\"sessions.csv\") |> select(-hashedEmail)\n",
    "sessions_data"
   ]
  },
  {
   "cell_type": "markdown",
   "id": "a2f74b6b-bc23-4a0b-bd9f-995cf8ceb03e",
   "metadata": {},
   "source": [
    "It seems that the easiest question to answer will be quesiton 3: We are interested in demand forecasting, namely, what time windows are most likely to have large number of simultaneous players. This is because we need to ensure that the number of licenses on hand is sufficiently large to accommodate all parallel players with high probability. "
   ]
  },
  {
   "cell_type": "markdown",
   "id": "018d8763-3027-4a46-b7be-a44bbf1975e1",
   "metadata": {},
   "source": [
    "My rough plan is as follows: load in the sessions data. Then, group the data by time of day that it is played. Plot the data by time of day. Then I can also look at what days of the week are most popular. Once I have looked at the data, I can decide if I should look at the month as well."
   ]
  },
  {
   "cell_type": "code",
   "execution_count": 19,
   "id": "4c018281-58c2-48e2-9205-b9ff6dc9ec22",
   "metadata": {},
   "outputs": [
    {
     "data": {
      "text/html": [
       "<table class=\"dataframe\">\n",
       "<caption>A tibble: 1535 × 10</caption>\n",
       "<thead>\n",
       "\t<tr><th scope=col>day_start</th><th scope=col>month_start</th><th scope=col>year_start</th><th scope=col>hour_start</th><th scope=col>minute_start</th><th scope=col>day_end</th><th scope=col>month_end</th><th scope=col>year_end</th><th scope=col>hour_end</th><th scope=col>minute_end</th></tr>\n",
       "\t<tr><th scope=col>&lt;chr&gt;</th><th scope=col>&lt;chr&gt;</th><th scope=col>&lt;chr&gt;</th><th scope=col>&lt;chr&gt;</th><th scope=col>&lt;chr&gt;</th><th scope=col>&lt;chr&gt;</th><th scope=col>&lt;chr&gt;</th><th scope=col>&lt;chr&gt;</th><th scope=col>&lt;chr&gt;</th><th scope=col>&lt;chr&gt;</th></tr>\n",
       "</thead>\n",
       "<tbody>\n",
       "\t<tr><td>30</td><td>06</td><td>2024</td><td>18</td><td>12</td><td>30</td><td>06</td><td>2024</td><td>18</td><td>24</td></tr>\n",
       "\t<tr><td>17</td><td>06</td><td>2024</td><td>23</td><td>33</td><td>17</td><td>06</td><td>2024</td><td>23</td><td>46</td></tr>\n",
       "\t<tr><td>25</td><td>07</td><td>2024</td><td>17</td><td>34</td><td>25</td><td>07</td><td>2024</td><td>17</td><td>57</td></tr>\n",
       "\t<tr><td>⋮</td><td>⋮</td><td>⋮</td><td>⋮</td><td>⋮</td><td>⋮</td><td>⋮</td><td>⋮</td><td>⋮</td><td>⋮</td></tr>\n",
       "\t<tr><td>28</td><td>07</td><td>2024</td><td>15</td><td>36</td><td>28</td><td>07</td><td>2024</td><td>15</td><td>57</td></tr>\n",
       "\t<tr><td>25</td><td>07</td><td>2024</td><td>06</td><td>15</td><td>25</td><td>07</td><td>2024</td><td>06</td><td>22</td></tr>\n",
       "\t<tr><td>20</td><td>05</td><td>2024</td><td>02</td><td>26</td><td>20</td><td>05</td><td>2024</td><td>02</td><td>45</td></tr>\n",
       "</tbody>\n",
       "</table>\n"
      ],
      "text/latex": [
       "A tibble: 1535 × 10\n",
       "\\begin{tabular}{llllllllll}\n",
       " day\\_start & month\\_start & year\\_start & hour\\_start & minute\\_start & day\\_end & month\\_end & year\\_end & hour\\_end & minute\\_end\\\\\n",
       " <chr> & <chr> & <chr> & <chr> & <chr> & <chr> & <chr> & <chr> & <chr> & <chr>\\\\\n",
       "\\hline\n",
       "\t 30 & 06 & 2024 & 18 & 12 & 30 & 06 & 2024 & 18 & 24\\\\\n",
       "\t 17 & 06 & 2024 & 23 & 33 & 17 & 06 & 2024 & 23 & 46\\\\\n",
       "\t 25 & 07 & 2024 & 17 & 34 & 25 & 07 & 2024 & 17 & 57\\\\\n",
       "\t ⋮ & ⋮ & ⋮ & ⋮ & ⋮ & ⋮ & ⋮ & ⋮ & ⋮ & ⋮\\\\\n",
       "\t 28 & 07 & 2024 & 15 & 36 & 28 & 07 & 2024 & 15 & 57\\\\\n",
       "\t 25 & 07 & 2024 & 06 & 15 & 25 & 07 & 2024 & 06 & 22\\\\\n",
       "\t 20 & 05 & 2024 & 02 & 26 & 20 & 05 & 2024 & 02 & 45\\\\\n",
       "\\end{tabular}\n"
      ],
      "text/markdown": [
       "\n",
       "A tibble: 1535 × 10\n",
       "\n",
       "| day_start &lt;chr&gt; | month_start &lt;chr&gt; | year_start &lt;chr&gt; | hour_start &lt;chr&gt; | minute_start &lt;chr&gt; | day_end &lt;chr&gt; | month_end &lt;chr&gt; | year_end &lt;chr&gt; | hour_end &lt;chr&gt; | minute_end &lt;chr&gt; |\n",
       "|---|---|---|---|---|---|---|---|---|---|\n",
       "| 30 | 06 | 2024 | 18 | 12 | 30 | 06 | 2024 | 18 | 24 |\n",
       "| 17 | 06 | 2024 | 23 | 33 | 17 | 06 | 2024 | 23 | 46 |\n",
       "| 25 | 07 | 2024 | 17 | 34 | 25 | 07 | 2024 | 17 | 57 |\n",
       "| ⋮ | ⋮ | ⋮ | ⋮ | ⋮ | ⋮ | ⋮ | ⋮ | ⋮ | ⋮ |\n",
       "| 28 | 07 | 2024 | 15 | 36 | 28 | 07 | 2024 | 15 | 57 |\n",
       "| 25 | 07 | 2024 | 06 | 15 | 25 | 07 | 2024 | 06 | 22 |\n",
       "| 20 | 05 | 2024 | 02 | 26 | 20 | 05 | 2024 | 02 | 45 |\n",
       "\n"
      ],
      "text/plain": [
       "     day_start month_start year_start hour_start minute_start day_end month_end\n",
       "1    30        06          2024       18         12           30      06       \n",
       "2    17        06          2024       23         33           17      06       \n",
       "3    25        07          2024       17         34           25      07       \n",
       "⋮    ⋮         ⋮           ⋮          ⋮          ⋮            ⋮       ⋮        \n",
       "1533 28        07          2024       15         36           28      07       \n",
       "1534 25        07          2024       06         15           25      07       \n",
       "1535 20        05          2024       02         26           20      05       \n",
       "     year_end hour_end minute_end\n",
       "1    2024     18       24        \n",
       "2    2024     23       46        \n",
       "3    2024     17       57        \n",
       "⋮    ⋮        ⋮        ⋮         \n",
       "1533 2024     15       57        \n",
       "1534 2024     06       22        \n",
       "1535 2024     02       45        "
      ]
     },
     "metadata": {},
     "output_type": "display_data"
    }
   ],
   "source": [
    "### Tidying the data\n",
    "\n",
    "\n",
    "sessions_tidy <- sessions_data |>\n",
    "                    select(start_time, end_time) |>\n",
    "                    separate(col = start_time, into = c(\"date_start\", \"time_start\"), sep = \" \") |>\n",
    "                    separate(col = end_time, into = c(\"date_end\", \"time_end\"), sep = \" \") |>\n",
    "                    separate(col = date_start, into = c(\"day_start\", \"month_start\", \"year_start\"), sep = \"/\") |>\n",
    "                    separate(col = date_end, into = c(\"day_end\", \"month_end\", \"year_end\"), sep = \"/\") |>\n",
    "                    separate(col = time_start, into = c(\"hour_start\", \"minute_start\"), sep = \":\") |>\n",
    "                    separate(col = time_end, into = c(\"hour_end\", \"minute_end\"), sep = \":\") \n",
    "\n",
    "\n",
    "\n",
    "\n",
    "sessions_tidy"
   ]
  },
  {
   "cell_type": "code",
   "execution_count": null,
   "id": "553b664e-2731-4ff0-b4a5-63ab3830e520",
   "metadata": {},
   "outputs": [],
   "source": []
  }
 ],
 "metadata": {
  "kernelspec": {
   "display_name": "R",
   "language": "R",
   "name": "ir"
  },
  "language_info": {
   "codemirror_mode": "r",
   "file_extension": ".r",
   "mimetype": "text/x-r-source",
   "name": "R",
   "pygments_lexer": "r",
   "version": "4.3.3"
  }
 },
 "nbformat": 4,
 "nbformat_minor": 5
}

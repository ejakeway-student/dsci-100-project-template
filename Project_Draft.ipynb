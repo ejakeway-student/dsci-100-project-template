{
 "cells": [
  {
   "cell_type": "code",
   "execution_count": 1,
   "id": "4a3a8ffd-bad8-4187-940b-a1098722772d",
   "metadata": {},
   "outputs": [],
   "source": [
    "### Beginning by loading in project data"
   ]
  },
  {
   "cell_type": "markdown",
   "id": "59044427-75d0-4098-98c1-0e44abd20ac1",
   "metadata": {},
   "source": [
    "<mark> Will need to find a way to load in the data that does not require the use of additional files"
   ]
  },
  {
   "cell_type": "code",
   "execution_count": null,
   "id": "9db3bf79-7991-4af7-9407-7a67707f7fd1",
   "metadata": {},
   "outputs": [],
   "source": []
  }
 ],
 "metadata": {
  "kernelspec": {
   "display_name": "R",
   "language": "R",
   "name": "ir"
  },
  "language_info": {
   "codemirror_mode": "r",
   "file_extension": ".r",
   "mimetype": "text/x-r-source",
   "name": "R",
   "pygments_lexer": "r",
   "version": "4.3.3"
  }
 },
 "nbformat": 4,
 "nbformat_minor": 5
}
